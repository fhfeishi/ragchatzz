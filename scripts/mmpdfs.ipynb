{
 "cells": [
  {
   "cell_type": "code",
   "execution_count": 6,
   "id": "41dff649",
   "metadata": {},
   "outputs": [
    {
     "name": "stdout",
     "output_type": "stream",
     "text": [
      "(19)中华人民共和国国家知识产权局\n",
      "(12)实用新型专利\n",
      "(10)授权公告号 \n",
      "(45)授权公告日 \n",
      "(21)申请号 201721328994.5\n",
      "(22)申请日 2017.10.16\n",
      "(73)专利权人 杭州宇树科技有限公司\n",
      "地址 310051 浙江省杭州市滨江区聚业路\n",
      "26号金绣国际科技中心B座106室\n",
      "(72)发明人 王兴兴　杨知雨　\n",
      "(74)专利代理机构 浙江翔隆专利事务所(普通\n",
      "合伙) 33206\n",
      "代理人 许守金\n",
      "(51)Int.Cl.\n",
      "B62D 57/032(2006.01)\n",
      "G01L 1/18(2006.01)\n",
      "G01C 21/10(2006.01)\n",
      " \n",
      "(54)实用新型名称\n",
      "一种机器人足端结构\n",
      "(57)摘要\n",
      "本实用新型公开了一种机器人足端结构， 属\n",
      "于机器人设备技术领域。 现有技术的足端结构较\n",
      "复杂， 体积及重量大， 内置的力传感器可靠性低。\n",
      "一种机器人足端结构， 包括用于和机器人腿部连\n",
      "杆相连接的足基座总成、 用于缓冲传递冲击力的\n",
      "足垫和保护罩总成， 所述足基座总成内的传感部\n",
      "件上设有能产生较大变形的敏感部， 所述敏感部\n",
      "由高屈服强度材料制成， 所述敏感部表面粘贴有\n",
      "应变桥； 所述足垫传递足受到的支撑力到足基座\n",
      "总成， 使敏感部产生较大变形， 从而通过应变桥\n",
      "检测到足端支撑力的大小。 本实用新型集力传感\n",
      "器与足端为一体， 零部件少， 结构简单， 能够有效\n",
      "减轻机器人足端的重量与体积， 便于生产制造，\n",
      "力传感器过载能力强不\n",
      "易失效， 制造成本低。\n",
      "权利要求书1页  说明书4页  附图4页\n",
      "CN 207225508 U\n",
      "2018.04.13\n",
      "CN 207225508 U\n"
     ]
    }
   ],
   "source": [
    "from langchain_community.document_loaders import (AmazonTextractPDFLoader,\n",
    "        DedocPDFLoader,\n",
    "        MathpixPDFLoader,\n",
    "        OnlinePDFLoader,\n",
    "        PagedPDFSplitter,\n",
    "        PDFMinerLoader,\n",
    "        PDFMinerPDFasHTMLLoader,\n",
    "        PDFPlumberLoader,\n",
    "        PyMuPDFLoader,\n",
    "        PyPDFDirectoryLoader,\n",
    "        PyPDFium2Loader,\n",
    "        PyPDFLoader,\n",
    "        UnstructuredPDFLoader)\n",
    "from langchain_core.documents import Document\n",
    "\n",
    "\n",
    "file_path = r\"..\\docs.log\\zhuanli_RobotFeet\\CN201721328994.5-一种机器人足端结构.pdf\"\n",
    "loader = PyPDFLoader(file_path)  \n",
    "\n",
    "data = loader.load()\n",
    "# assert len(data) == 1\n",
    "assert isinstance(data[0], Document)\n",
    "readme_content = data[0].page_content\n",
    "print(readme_content[:10000])"
   ]
  },
  {
   "cell_type": "code",
   "execution_count": null,
   "id": "1187aa51",
   "metadata": {},
   "outputs": [],
   "source": []
  }
 ],
 "metadata": {
  "kernelspec": {
   "display_name": "rag",
   "language": "python",
   "name": "python3"
  },
  "language_info": {
   "codemirror_mode": {
    "name": "ipython",
    "version": 3
   },
   "file_extension": ".py",
   "mimetype": "text/x-python",
   "name": "python",
   "nbconvert_exporter": "python",
   "pygments_lexer": "ipython3",
   "version": "3.12.11"
  }
 },
 "nbformat": 4,
 "nbformat_minor": 5
}
